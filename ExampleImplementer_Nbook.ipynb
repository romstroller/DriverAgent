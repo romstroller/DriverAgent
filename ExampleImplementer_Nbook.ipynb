{
 "cells": [
  {
   "cell_type": "code",
   "execution_count": null,
   "metadata": {},
   "outputs": [],
   "source": [
    "import os\n",
    "import time\n",
    "\n",
    "from DriverAgent import DriverAgent"
   ]
  },
  {
   "cell_type": "code",
   "execution_count": null,
   "metadata": {},
   "outputs": [],
   "source": [
    "agent = DriverAgent( os.getcwd() )\n",
    "agent.getBrowser()"
   ]
  },
  {
   "cell_type": "code",
   "execution_count": null,
   "metadata": {},
   "outputs": [],
   "source": [
    "# get all from single page\n",
    "def getDaily():\n",
    "    agent.getUrl( \"https://www.example.com/daily/\" )\n",
    "    imgXP = \"//div[1]/a/div/picture/img\"\n",
    "    if not agent.awaitXP( imgXP ): return f\"EC timeout on {imgXP}\"\n",
    "    imgObjs = agent.findXP( imgXP, all=True )\n",
    "    print( f\"Got {len(imgObjs)} image objects\" )\n",
    "    \n",
    "    for n, ob in enumerate(imgObjs):\n",
    "        print( f\"at {n}\" )\n",
    "        obSrc = ob.get_attribute( 'src' )\n",
    "        obSrc_full = obSrc.split(\"?\")[0] \n",
    "        fiName = obSrc.split(\"/\")[-1].split(\"?\")[0]\n",
    "        print( f\"scrolling to {fiName}\" )\n",
    "        agent.scrollTo( ob )\n",
    "        agent.retrieve( obSrc_full, f\"imgs\\\\{fiName}\")\n",
    "        \n",
    "getDaily()"
   ]
  },
  {
   "cell_type": "code",
   "execution_count": null,
   "metadata": {},
   "outputs": [],
   "source": [
    "# get all from sequential pages\n",
    "imgXP = \"//div/div/div/div[2]/img\"\n",
    "urlBas = \"https://www.example.com/index/?page=\"\n",
    "prevFs = os.listdir( \"imgs\" )\n",
    "\n",
    "def retrieveImgs( _imgObs ):\n",
    "    for ob in _imgObs:\n",
    "        obSrc = ob.get_attribute( 'src' )\n",
    "        fName = obSrc.split(\"/\")[-1].split(\"?\")[0]\n",
    "        if fName in prevFs: continue\n",
    "        obSrc_full = obSrc.split(\"?\")[0]\n",
    "        agent.scrollTo( ob )\n",
    "        agent.retrieve( obSrc_full, f\"imgs\\\\{fName}\")\n",
    "\n",
    "pos = 1\n",
    "while True:\n",
    "    agent.getUrl( urlBas + str(pos) )\n",
    "    time.sleep( 2 )\n",
    "    if not agent.awaitXP( imgXP ): \n",
    "        print(0)\n",
    "        break\n",
    "    \n",
    "    retrieveImgs( agent.findXP( imgXP, all=True ) )\n",
    "        \n",
    "    pos +=1"
   ]
  },
  {
   "cell_type": "code",
   "execution_count": null,
   "metadata": {},
   "outputs": [],
   "source": []
  }
 ],
 "metadata": {
  "kernelspec": {
   "display_name": "Python 3.10.2 64-bit",
   "language": "python",
   "name": "python3"
  },
  "language_info": {
   "codemirror_mode": {
    "name": "ipython",
    "version": 3
   },
   "file_extension": ".py",
   "mimetype": "text/x-python",
   "name": "python",
   "nbconvert_exporter": "python",
   "pygments_lexer": "ipython3",
   "version": "3.10.2"
  },
  "orig_nbformat": 4,
  "vscode": {
   "interpreter": {
    "hash": "26de051ba29f2982a8de78e945f0abaf191376122a1563185a90213a26c5da77"
   }
  }
 },
 "nbformat": 4,
 "nbformat_minor": 2
}
